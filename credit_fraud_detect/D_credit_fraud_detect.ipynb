{
 "cells": [
  {
   "cell_type": "code",
   "execution_count": null,
   "metadata": {
    "colab": {
     "base_uri": "https://localhost:8080/"
    },
    "id": "T5oUEloPhnvs",
    "outputId": "3be17718-eb77-4313-e105-c00c27234823"
   },
   "outputs": [],
   "source": [
    "import pandas as pd\n",
    "from sklearn.model_selection import train_test_split\n",
    "from sklearn.ensemble import RandomForestClassifier\n",
    "from sklearn.preprocessing import LabelEncoder\n",
    "from sklearn.metrics import accuracy_score, precision_score\n",
    "from sklearn.impute import SimpleImputer\n",
    "\n",
    "# Load the dataset\n",
    "df_test = pd.read_csv(\"fraudTrain.csv\", encoding='ascii')\n",
    "\n",
    "# Check the first few rows of the dataset to understand its structure\n",
    "print(df_test.head())\n",
    "\n",
    "# Next, we'll check the data types of the columns to ensure they are compatible with the operations we perform.\n",
    "print(df_test.dtypes)\n",
    "\n",
    "# After loading the dataset, let's check if there are any missing values\n",
    "print(df_test.isnull().sum())\n",
    "\n",
    "# Now, let's proceed with the preprocessing steps: removing unwanted columns and transforming categorical features.\n",
    "\n",
    "# Function to remove unwanted columns\n",
    "def remove_unwanted_columns(df):\n",
    "    return df.drop(columns=['Unnamed: 0', 'trans_date_trans_time', 'cc_num', 'trans_num', 'state', 'city'])\n",
    "\n",
    "# Function to transform categorical features\n",
    "def transform_categorical_features(df):\n",
    "    le = LabelEncoder()\n",
    "    for feature in ['merchant', 'category', 'first', 'last', 'gender', 'street', 'job', 'dob']:\n",
    "        df[feature] = le.fit_transform(df[feature])\n",
    "    return df\n",
    "\n",
    "# Apply preprocessing steps\n",
    "df_test = transform_categorical_features(remove_unwanted_columns(df_test))\n",
    "\n",
    "# Now, let's check the first few rows of the processed dataset to ensure the preprocessing steps were applied correctly\n",
    "print(df_test.head())\n",
    "\n",
    "# Now, we'll proceed with preparing the data for training, training the model, and evaluating it.\n",
    "# We'll do this step by step to identify any potential issues.\n",
    "\n",
    "# Function to prepare data\n",
    "def prepare_data(df):\n",
    "    X = df.drop(columns=['is_fraud'])\n",
    "    y = df['is_fraud']\n",
    "    X_train, X_val, y_train, y_val = train_test_split(X, y, test_size=0.2, random_state=42)\n",
    "\n",
    "    # Impute missing values in features\n",
    "    imputer = SimpleImputer(strategy='mean')\n",
    "    X_train_imputed = imputer.fit_transform(X_train)\n",
    "    X_val_imputed = imputer.transform(X_val)\n",
    "\n",
    "    # Drop rows with missing target values\n",
    "    non_nan_indices_train = ~pd.isnull(y_train)\n",
    "    non_nan_indices_val = ~pd.isnull(y_val)\n",
    "\n",
    "    X_train_imputed = X_train_imputed[non_nan_indices_train]\n",
    "    y_train = y_train[non_nan_indices_train]\n",
    "\n",
    "    X_val_imputed = X_val_imputed[non_nan_indices_val]\n",
    "    y_val = y_val[non_nan_indices_val]\n",
    "\n",
    "    return X_train_imputed, X_val_imputed, y_train, y_val\n",
    "\n",
    "# Function to evaluate the model\n",
    "def evaluate_model(model, X, y):\n",
    "    prediction = model.predict(X)\n",
    "    accuracy = accuracy_score(y, prediction)\n",
    "    precision = precision_score(y, prediction)\n",
    "    return accuracy, precision\n",
    "\n",
    "# Preprocessing\n",
    "X_train, X_val, y_train, y_val = prepare_data(df_test)\n",
    "\n",
    "# Model training\n",
    "model = RandomForestClassifier(n_estimators=100, random_state=42)\n",
    "model.fit(X_train, y_train)\n",
    "\n",
    "# Evaluation\n",
    "test_accuracy, test_precision = evaluate_model(model, X_val, y_val)\n",
    "print(f\"Test Accuracy: {test_accuracy}\")\n",
    "print(f\"Test Precision: {test_precision}\")\n"
   ]
  },
  {
   "cell_type": "code",
   "execution_count": null,
   "metadata": {},
   "outputs": [],
   "source": []
  },
  {
   "cell_type": "code",
   "execution_count": null,
   "metadata": {},
   "outputs": [],
   "source": []
  }
 ],
 "metadata": {
  "colab": {
   "provenance": []
  },
  "kernelspec": {
   "display_name": "Python 3 (ipykernel)",
   "language": "python",
   "name": "python3"
  },
  "language_info": {
   "codemirror_mode": {
    "name": "ipython",
    "version": 3
   },
   "file_extension": ".py",
   "mimetype": "text/x-python",
   "name": "python",
   "nbconvert_exporter": "python",
   "pygments_lexer": "ipython3",
   "version": "3.12.0"
  }
 },
 "nbformat": 4,
 "nbformat_minor": 4
}
